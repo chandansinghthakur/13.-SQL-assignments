{
 "cells": [
  {
   "cell_type": "markdown",
   "id": "9812e758",
   "metadata": {},
   "source": [
    "# Assignment 04 Solution"
   ]
  },
  {
   "cell_type": "markdown",
   "id": "2a5f73e8",
   "metadata": {},
   "source": [
    "#### Q-1. Write an SQL query to print the FIRST_NAME from Worker table after replacing ‘a’ with ‘A’."
   ]
  },
  {
   "cell_type": "markdown",
   "id": "80279e26",
   "metadata": {},
   "source": [
    "`select replace(first_name, 'a', 'A'), first_name from worker_table ;`"
   ]
  },
  {
   "cell_type": "markdown",
   "id": "4018a99b",
   "metadata": {},
   "source": [
    "#### Q-2. Write an SQL query to print all Worker details from the Worker table order by FIRST_NAME Ascending and DEPARTMENT Descending.\n"
   ]
  },
  {
   "cell_type": "markdown",
   "id": "d6770ee5",
   "metadata": {},
   "source": [
    "`select * from worker_table order by first_name asc, department desc;`"
   ]
  },
  {
   "cell_type": "markdown",
   "id": "451bb217",
   "metadata": {},
   "source": [
    "#### Q-3. Write an SQL query to fetch the names of workers who earn the highest salary."
   ]
  },
  {
   "cell_type": "markdown",
   "id": "72477918",
   "metadata": {},
   "source": [
    "`select first_name, last_name,salary from worker_table where salary= (select max(salary) from worker_table);`"
   ]
  }
 ],
 "metadata": {
  "kernelspec": {
   "display_name": "Python 3 (ipykernel)",
   "language": "python",
   "name": "python3"
  },
  "language_info": {
   "codemirror_mode": {
    "name": "ipython",
    "version": 3
   },
   "file_extension": ".py",
   "mimetype": "text/x-python",
   "name": "python",
   "nbconvert_exporter": "python",
   "pygments_lexer": "ipython3",
   "version": "3.9.7"
  }
 },
 "nbformat": 4,
 "nbformat_minor": 5
}
