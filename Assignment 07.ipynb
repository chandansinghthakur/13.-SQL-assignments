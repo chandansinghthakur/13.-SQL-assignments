{
 "cells": [
  {
   "cell_type": "markdown",
   "id": "7a2daf70",
   "metadata": {},
   "source": [
    "Assignment 7 Solution"
   ]
  },
  {
   "cell_type": "markdown",
   "id": "ce33c416",
   "metadata": {},
   "source": [
    "#### Q-13. Write an SQL query to show only odd rows from a table.\n",
    "\n"
   ]
  },
  {
   "cell_type": "markdown",
   "id": "e8f4f856",
   "metadata": {},
   "source": [
    "`select * from worker_table where mod(worker_id,2)=1;`"
   ]
  },
  {
   "cell_type": "markdown",
   "id": "cfd2bfe5",
   "metadata": {},
   "source": [
    "#### Q-14. Write an SQL query to clone a new table from another table."
   ]
  },
  {
   "cell_type": "markdown",
   "id": "78519bf9",
   "metadata": {},
   "source": [
    "`create table Clone_Worker_table(\n",
    "WORKER_ID INT NOT NULL PRIMARY KEY AUTO_INCREMENT,\n",
    "FIRST_NAME CHAR(25),\n",
    "LAST_NAME CHAR(25),\n",
    "SALARY INT,\n",
    "JOINING_DATE DATETIME,\n",
    "DEPARTMENT CHAR(25)\n",
    ");`\n",
    "\n",
    "`insert into Clone_Worker_table select * from Worker_table;`\n",
    "\n",
    "`select * from Clone_Worker_table;`"
   ]
  },
  {
   "cell_type": "code",
   "execution_count": null,
   "id": "94e9f9e0",
   "metadata": {},
   "outputs": [],
   "source": []
  }
 ],
 "metadata": {
  "kernelspec": {
   "display_name": "Python 3 (ipykernel)",
   "language": "python",
   "name": "python3"
  },
  "language_info": {
   "codemirror_mode": {
    "name": "ipython",
    "version": 3
   },
   "file_extension": ".py",
   "mimetype": "text/x-python",
   "name": "python",
   "nbconvert_exporter": "python",
   "pygments_lexer": "ipython3",
   "version": "3.9.7"
  }
 },
 "nbformat": 4,
 "nbformat_minor": 5
}
