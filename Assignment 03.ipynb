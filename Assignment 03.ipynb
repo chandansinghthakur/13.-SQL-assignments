{
 "cells": [
  {
   "cell_type": "markdown",
   "id": "5eea1b37",
   "metadata": {},
   "source": [
    "# Assignment 03 Solution"
   ]
  },
  {
   "cell_type": "markdown",
   "id": "de3c1dd5",
   "metadata": {},
   "source": [
    "#### Q-1. Write an SQL query to print the FIRST_NAME from Worker table after removing white spaces from the right side."
   ]
  },
  {
   "cell_type": "markdown",
   "id": "2c9de91a",
   "metadata": {},
   "source": [
    "`select rtrim(first_name) from worker_table;`"
   ]
  },
  {
   "cell_type": "markdown",
   "id": "66219815",
   "metadata": {},
   "source": [
    "#### Q-2. Write an SQL query that fetches the unique values of DEPARTMENT from Worker table and prints its length."
   ]
  },
  {
   "cell_type": "markdown",
   "id": "2f479a40",
   "metadata": {},
   "source": [
    "`select department, length(department) from worker_table group by department;`"
   ]
  },
  {
   "cell_type": "markdown",
   "id": "89b2ceb8",
   "metadata": {},
   "source": [
    "#### Q-3. Write an SQL query to fetch nth max salaries from a table."
   ]
  },
  {
   "cell_type": "markdown",
   "id": "076ebd7b",
   "metadata": {},
   "source": [
    "`select distinct(salary) from worker_table order by salary desc limit 3,1;`\n",
    "\n",
    "Here we are skipping 3 rows and returning 1 row after skipping which is why here we are displaying 4th max salary\n"
   ]
  }
 ],
 "metadata": {
  "kernelspec": {
   "display_name": "Python 3 (ipykernel)",
   "language": "python",
   "name": "python3"
  },
  "language_info": {
   "codemirror_mode": {
    "name": "ipython",
    "version": 3
   },
   "file_extension": ".py",
   "mimetype": "text/x-python",
   "name": "python",
   "nbconvert_exporter": "python",
   "pygments_lexer": "ipython3",
   "version": "3.9.7"
  }
 },
 "nbformat": 4,
 "nbformat_minor": 5
}
