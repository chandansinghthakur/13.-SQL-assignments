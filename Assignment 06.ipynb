{
 "cells": [
  {
   "cell_type": "markdown",
   "id": "07b270b0",
   "metadata": {},
   "source": [
    "# Assignment 06 solution"
   ]
  },
  {
   "cell_type": "markdown",
   "id": "093ccc88",
   "metadata": {},
   "source": [
    "#### Q-1. Write an SQL query to print details of the Workers who have joined in Feb’2014.\n"
   ]
  },
  {
   "cell_type": "markdown",
   "id": "b1aeb217",
   "metadata": {},
   "source": [
    "`select * from worker_table where joining_date like '2014-02%';`"
   ]
  },
  {
   "cell_type": "markdown",
   "id": "419dd9e6",
   "metadata": {},
   "source": [
    "#### Q-2. Write an SQL query to fetch duplicate records having matching data in some fields of a table.\n",
    "\n"
   ]
  },
  {
   "cell_type": "markdown",
   "id": "1303eca6",
   "metadata": {},
   "source": [
    "`select * from worker_table group by department having count(department)>1;`"
   ]
  },
  {
   "cell_type": "markdown",
   "id": "507b520a",
   "metadata": {},
   "source": [
    "#### Q-3. How to remove duplicate rows from Employees table."
   ]
  },
  {
   "cell_type": "markdown",
   "id": "f3514ee0",
   "metadata": {},
   "source": [
    "`DELETE t1 FROM worker_table t1  \n",
    "inner join worker_table t2   \n",
    "WHERE  \n",
    "    t1.worker_id < t2.worker_id AND  \n",
    "    t1.first_name = t2.first_name; `"
   ]
  },
  {
   "cell_type": "code",
   "execution_count": null,
   "id": "bc97b710",
   "metadata": {},
   "outputs": [],
   "source": []
  }
 ],
 "metadata": {
  "kernelspec": {
   "display_name": "Python 3 (ipykernel)",
   "language": "python",
   "name": "python3"
  },
  "language_info": {
   "codemirror_mode": {
    "name": "ipython",
    "version": 3
   },
   "file_extension": ".py",
   "mimetype": "text/x-python",
   "name": "python",
   "nbconvert_exporter": "python",
   "pygments_lexer": "ipython3",
   "version": "3.9.7"
  }
 },
 "nbformat": 4,
 "nbformat_minor": 5
}
