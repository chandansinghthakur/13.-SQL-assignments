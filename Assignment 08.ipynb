{
 "cells": [
  {
   "cell_type": "markdown",
   "id": "43c288ce",
   "metadata": {},
   "source": [
    "# Assignment 8 Solution"
   ]
  },
  {
   "cell_type": "markdown",
   "id": "1bb1581c",
   "metadata": {},
   "source": [
    "#### Q-15. Write an SQL query to fetch intersecting records of two tables.\n",
    "\n"
   ]
  },
  {
   "cell_type": "markdown",
   "id": "ff39f55b",
   "metadata": {},
   "source": [
    "`select * from Clone_Worker_table where worker_id  in (select worker_id from worker_table);`"
   ]
  },
  {
   "cell_type": "markdown",
   "id": "abad8e46",
   "metadata": {},
   "source": [
    "#### Q-16. Write an SQL query to show records from one table that another table does not have."
   ]
  },
  {
   "cell_type": "markdown",
   "id": "5ccb8895",
   "metadata": {},
   "source": [
    "`select * from Clone_Worker_table where worker_id not in (select worker_id from worker_table);`"
   ]
  }
 ],
 "metadata": {
  "kernelspec": {
   "display_name": "Python 3 (ipykernel)",
   "language": "python",
   "name": "python3"
  },
  "language_info": {
   "codemirror_mode": {
    "name": "ipython",
    "version": 3
   },
   "file_extension": ".py",
   "mimetype": "text/x-python",
   "name": "python",
   "nbconvert_exporter": "python",
   "pygments_lexer": "ipython3",
   "version": "3.9.7"
  }
 },
 "nbformat": 4,
 "nbformat_minor": 5
}
