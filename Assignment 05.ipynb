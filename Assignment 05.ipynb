{
 "cells": [
  {
   "cell_type": "markdown",
   "id": "19f51b23",
   "metadata": {},
   "source": [
    "# Assignment 05 Solution"
   ]
  },
  {
   "cell_type": "markdown",
   "id": "42fb6c4d",
   "metadata": {},
   "source": [
    "#### Q-1. Write an SQL query to print details of workers excluding first names, “Vipul” and “Satish” from Worker table.\n",
    "\n"
   ]
  },
  {
   "cell_type": "markdown",
   "id": "b6e999ef",
   "metadata": {},
   "source": [
    "`select * from worker_table where first_name not in ('Vipul', 'Satish');`"
   ]
  },
  {
   "cell_type": "markdown",
   "id": "eefd83fa",
   "metadata": {},
   "source": [
    "#### Q-2. Write an SQL query to print details of the Workers whose FIRST_NAME ends with ‘h’ and contains six alphabets.\n"
   ]
  },
  {
   "cell_type": "markdown",
   "id": "949f7ad4",
   "metadata": {},
   "source": [
    "`select * from worker_table where first_name like '_____h';`"
   ]
  },
  {
   "cell_type": "markdown",
   "id": "c93c032f",
   "metadata": {},
   "source": [
    "#### Q-3. Write a query to validate Email of Employee."
   ]
  },
  {
   "cell_type": "markdown",
   "id": "5899733c",
   "metadata": {},
   "source": [
    "`select * from worker_table where email like '%@%.%';`"
   ]
  }
 ],
 "metadata": {
  "kernelspec": {
   "display_name": "Python 3 (ipykernel)",
   "language": "python",
   "name": "python3"
  },
  "language_info": {
   "codemirror_mode": {
    "name": "ipython",
    "version": 3
   },
   "file_extension": ".py",
   "mimetype": "text/x-python",
   "name": "python",
   "nbconvert_exporter": "python",
   "pygments_lexer": "ipython3",
   "version": "3.9.7"
  }
 },
 "nbformat": 4,
 "nbformat_minor": 5
}
