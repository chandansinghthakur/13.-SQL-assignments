{
 "cells": [
  {
   "cell_type": "markdown",
   "id": "cd18b8a6",
   "metadata": {},
   "source": [
    "# Assignment 10 solution"
   ]
  },
  {
   "cell_type": "markdown",
   "id": "2e88b49b",
   "metadata": {},
   "source": [
    "#### Q-19. Write an SQL query to determine the 5th highest salary without using TOP or limit method.\n",
    "\n"
   ]
  },
  {
   "cell_type": "markdown",
   "id": "6dee0c6b",
   "metadata": {},
   "source": [
    "`SELECT * FROM (SELECT ROW_NUMBER() OVER (ORDER BY salary DESC) AS R_NUM, first_name, salary FROM worker_table) as HEllO WHERE R_NUM=5;`"
   ]
  },
  {
   "cell_type": "markdown",
   "id": "fa9af6f1",
   "metadata": {},
   "source": [
    "#### Q-20. Write an SQL query to fetch the list of employees with the same salary."
   ]
  },
  {
   "cell_type": "markdown",
   "id": "b25cf7f3",
   "metadata": {},
   "source": [
    "`select * from worker_table where salary in (select salary from worker_table group by salary having count(salary)>1) order by salary;`"
   ]
  }
 ],
 "metadata": {
  "kernelspec": {
   "display_name": "Python 3 (ipykernel)",
   "language": "python",
   "name": "python3"
  },
  "language_info": {
   "codemirror_mode": {
    "name": "ipython",
    "version": 3
   },
   "file_extension": ".py",
   "mimetype": "text/x-python",
   "name": "python",
   "nbconvert_exporter": "python",
   "pygments_lexer": "ipython3",
   "version": "3.9.7"
  }
 },
 "nbformat": 4,
 "nbformat_minor": 5
}
