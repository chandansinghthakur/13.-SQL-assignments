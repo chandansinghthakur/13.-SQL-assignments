{
 "cells": [
  {
   "cell_type": "markdown",
   "id": "7a18c6f0",
   "metadata": {},
   "source": [
    "# Assignment 2 Solution"
   ]
  },
  {
   "cell_type": "markdown",
   "id": "9c8b9f4d",
   "metadata": {},
   "source": [
    "#### Q-1. Write an SQL query to print the first three characters of  FIRST_NAME from Worker table."
   ]
  },
  {
   "cell_type": "markdown",
   "id": "74fd907e",
   "metadata": {},
   "source": [
    "`select left(first_name,3), first_name from worker_table;`"
   ]
  },
  {
   "cell_type": "markdown",
   "id": "895125ef",
   "metadata": {},
   "source": [
    "####  Q-2. Write an SQL query to find the position of the alphabet (‘a’) in the first name column ‘Amitabh’ from Worker table."
   ]
  },
  {
   "cell_type": "markdown",
   "id": "2f063234",
   "metadata": {},
   "source": [
    "`select position('a' in first_name), first_name from worker_table where first_name = 'Amitabh';`"
   ]
  },
  {
   "cell_type": "markdown",
   "id": "415d1b4e",
   "metadata": {},
   "source": [
    "#### Q-3. Write an SQL query to print the name of employees having the highest salary in each department."
   ]
  },
  {
   "cell_type": "markdown",
   "id": "5fc5c544",
   "metadata": {},
   "source": [
    "`select first_name, last_name, department, max(salary) from worker_table group by department ;`"
   ]
  }
 ],
 "metadata": {
  "kernelspec": {
   "display_name": "Python 3 (ipykernel)",
   "language": "python",
   "name": "python3"
  },
  "language_info": {
   "codemirror_mode": {
    "name": "ipython",
    "version": 3
   },
   "file_extension": ".py",
   "mimetype": "text/x-python",
   "name": "python",
   "nbconvert_exporter": "python",
   "pygments_lexer": "ipython3",
   "version": "3.9.7"
  }
 },
 "nbformat": 4,
 "nbformat_minor": 5
}
