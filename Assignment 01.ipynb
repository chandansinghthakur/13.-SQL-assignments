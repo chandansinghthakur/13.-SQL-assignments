{
 "cells": [
  {
   "cell_type": "markdown",
   "id": "52fbbe66",
   "metadata": {},
   "source": [
    "# Assignment 1 solution"
   ]
  },
  {
   "cell_type": "markdown",
   "id": "3010e5fd",
   "metadata": {},
   "source": [
    "#### Q-1. Write an SQL query to fetch “FIRST_NAME” from Worker table using the alias name as <WORKER_NAME>."
   ]
  },
  {
   "cell_type": "markdown",
   "id": "fb1cfba8",
   "metadata": {},
   "source": [
    "`select first_name as fn from worker_table;`"
   ]
  },
  {
   "cell_type": "markdown",
   "id": "8671e70c",
   "metadata": {},
   "source": [
    "#### Q-2. Write an SQL query to fetch unique values of DEPARTMENT from Worker table."
   ]
  },
  {
   "cell_type": "markdown",
   "id": "748a19c0",
   "metadata": {},
   "source": [
    "`select distinct department from worker_table;`"
   ]
  },
  {
   "cell_type": "markdown",
   "id": "4ae7a788",
   "metadata": {},
   "source": [
    "#### Q-3. Write an SQL query to show the last 5 record from a table."
   ]
  },
  {
   "cell_type": "markdown",
   "id": "7eb21c50",
   "metadata": {},
   "source": [
    "`select * from worker_table order by worker_id desc limit 5;`"
   ]
  },
  {
   "cell_type": "code",
   "execution_count": null,
   "id": "77297c15",
   "metadata": {},
   "outputs": [],
   "source": []
  }
 ],
 "metadata": {
  "kernelspec": {
   "display_name": "Python 3 (ipykernel)",
   "language": "python",
   "name": "python3"
  },
  "language_info": {
   "codemirror_mode": {
    "name": "ipython",
    "version": 3
   },
   "file_extension": ".py",
   "mimetype": "text/x-python",
   "name": "python",
   "nbconvert_exporter": "python",
   "pygments_lexer": "ipython3",
   "version": "3.9.7"
  }
 },
 "nbformat": 4,
 "nbformat_minor": 5
}
